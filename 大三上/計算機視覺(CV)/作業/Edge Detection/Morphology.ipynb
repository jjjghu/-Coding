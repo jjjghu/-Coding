{
 "cells": [
  {
   "cell_type": "code",
   "execution_count": 23,
   "metadata": {},
   "outputs": [],
   "source": [
    "import cv2\n",
    "import matplotlib.pyplot as plt\n",
    "import numpy as np\n",
    "def dilation(image, kSize = 5):\n",
    "    norm_Image = image / 255.0\n",
    "    pad = kSize // 2\n",
    "    padded_image = np.pad(norm_Image, pad, mode=\"reflect\")\n",
    "    result_image = np.zeros_like(norm_Image)\n",
    "    # 灰階影像, 使用 numpy 填補邊緣\n",
    "    # 只要能處碰到 1 的點, 這個點就可以被標示為 1\n",
    "    for i in range(image.shape[0]):\n",
    "        for j in range(image.shape[1]):\n",
    "            if np.sum(padded_image[i:i+kSize, j:j+kSize]) > 0: \n",
    "                result_image[i, j] = 1\n",
    "            else:\n",
    "                result_image[i, j] = 0\n",
    "    return (result_image * 255).astype(np.uint8)\n",
    "def erosion(image, kSize = 5):\n",
    "    norm_Image = image / 255.0\n",
    "    pad = kSize // 2\n",
    "    padded_image = np.pad(norm_Image, pad, mode=\"reflect\")\n",
    "    result_image = np.zeros_like(norm_Image)\n",
    "    # 灰階影像, 使用 numpy 填補邊緣\n",
    "    # 假如 kernel 能完整的放進圖片當中, 所有點全部都觸碰到 1, 就表示這個點可以留下來 設為 1 , 其他情況就刪掉, 設為 0 \n",
    "    for i in range(image.shape[0]):\n",
    "        for j in range(image.shape[1]):\n",
    "            if np.sum(padded_image[i:i+kSize, j:j+kSize]) == kSize ** 2:\n",
    "                result_image[i, j] = 1\n",
    "            else:\n",
    "                result_image[i, j] = 0\n",
    "    return (result_image * 255).astype(np.uint8)\n",
    "# Opening : 先 erosion 再 dilation\n",
    "# Closing: 先 dilation 再 erosion "
   ]
  },
  {
   "cell_type": "code",
   "execution_count": null,
   "metadata": {},
   "outputs": [],
   "source": [
    "image = cv2.imread('binary.png', cv2.IMREAD_GRAYSCALE) \n",
    "erosion_image = erosion(image, 5)\n",
    "plt.axis('off')\n",
    "plt.imshow(erosion_image, cmap='gray')\n",
    "plt.show()\n",
    "\n",
    "dilation_image = dilation(image, 5)\n",
    "plt.axis('off')\n",
    "plt.imshow(dilation_image, cmap='gray')\n",
    "plt.show()\n",
    "\n",
    "opening_image = dilation(erosion(image, 5))\n",
    "plt.imshow(opening_image, cmap='gray')\n",
    "plt.show()\n",
    "\n",
    "closing_image = erosion(dilation(image, 5))\n",
    "plt.imshow(closing_image, cmap='gray')\n",
    "plt.show()\n",
    "\n",
    "cv2.imwrite('erosion.png', erosion_image)\n",
    "cv2.imwrite('dilation.png', dilation_image)\n",
    "cv2.imwrite('opening.png', opening_image)\n",
    "cv2.imwrite('closing.png', closing_image)"
   ]
  }
 ],
 "metadata": {
  "kernelspec": {
   "display_name": "opencv",
   "language": "python",
   "name": "python3"
  },
  "language_info": {
   "codemirror_mode": {
    "name": "ipython",
    "version": 3
   },
   "file_extension": ".py",
   "mimetype": "text/x-python",
   "name": "python",
   "nbconvert_exporter": "python",
   "pygments_lexer": "ipython3",
   "version": "3.11.9"
  }
 },
 "nbformat": 4,
 "nbformat_minor": 2
}
